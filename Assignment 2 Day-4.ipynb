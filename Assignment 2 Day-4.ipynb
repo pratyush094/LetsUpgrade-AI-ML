{
 "cells": [
  {
   "cell_type": "code",
   "execution_count": 15,
   "metadata": {},
   "outputs": [
    {
     "name": "stdout",
     "output_type": "stream",
     "text": [
      "addition of both complex numbers (50+12j) and (12+5j) is (62+17j)\n",
      "   \n",
      "subtraction of both complex numbers (50+12j) and (12+5j) is (38+7j)\n",
      "   \n",
      "multiplication of both complex numbers (50+12j) and (12+5j) is (540+394j)\n",
      "   \n",
      "division of both complex numbers (50+12j) and (12+5j) is (3.905325443786982-0.6272189349112427j)\n",
      "   \n",
      "   \n"
     ]
    }
   ],
   "source": [
    "# Research on whether addition, subtraction, multiplication, division, floor division, and modulo operations\n",
    "# be performed on complex numbers. Based on your study, implement a Python program to demonstrate\n",
    "# these operations.\n",
    "\n",
    "cn1 = 50 + 12j\n",
    "cn2 = 12 + 5j\n",
    "\n",
    "#Addition\n",
    "add = cn1 + cn2\n",
    "print(\"addition of both complex numbers\",cn1,\"and\",cn2,\"is\",add)\n",
    "\n",
    "print(\"   \")\n",
    "\n",
    "#Subtraction\n",
    "sub = cn1 - cn2\n",
    "print(\"subtraction of both complex numbers\",cn1,\"and\",cn2,\"is\",sub)\n",
    "\n",
    "print(\"   \")\n",
    "\n",
    "#Multiplication\n",
    "mul = cn1 * cn2\n",
    "print(\"multiplication of both complex numbers\",cn1,\"and\",cn2,\"is\",mul)\n",
    "\n",
    "print(\"   \")\n",
    "\n",
    "#Division\n",
    "div = cn1 / cn2\n",
    "print(\"division of both complex numbers\",cn1,\"and\",cn2,\"is\",div)\n",
    "\n",
    "print(\"   \")\n",
    "\n",
    "#Floor Division\n",
    "\n",
    "#fdiv = cn1 // cn2\n",
    "#print(\"floor division of both complex numbers\",cn1,\"and\",cn2,\"is\",fdiv\")\n",
    "#o/p:\n",
    "#File \"<ipython-input-12-98aa9fecba38>\", line 34\n",
    "#    print(\"floor division of both complex numbers\",cn1,\"and\",cn2,\"is\",fdiv\")\n",
    "#                                                                            ^\n",
    "#SyntaxError: EOL while scanning string literal\n",
    "\n",
    "print(\"   \")\n",
    "\n",
    "#Modulo\n",
    "\n",
    "#mod = cn1 % cn2\n",
    "#print(\"modulos of both complex numbers\",cn1,\"and\",cn2,\"is\",mod)\n",
    "#o/p:\n",
    "#TypeError                                 Traceback (most recent call last)\n",
    "#<ipython-input-14-b0bc7b72dbca> in <module>\n",
    "#     43 #Modulo\n",
    "#     44 \n",
    "#---> 45 mod = cn1 % cn2\n",
    "#     46 print(\"modulos of both complex numbers\",cn1,\"and\",cn2,\"is\",mod)\n",
    "\n",
    "#TypeError: can't mod complex numbers.\n"
   ]
  },
  {
   "cell_type": "code",
   "execution_count": 16,
   "metadata": {},
   "outputs": [],
   "source": [
    "# Research on range() functions and its parameters. Create a markdown cell and write in your own words\n",
    "# (no copy-paste from google please) what you understand about it. Implement a small program of your\n",
    "# choice on the same."
   ]
  },
  {
   "cell_type": "markdown",
   "metadata": {},
   "source": [
    "##### Range Data Type represents a sequence of numbers. The elements present in range Data type cannot be modified, i.e they are immutable.\n",
    "##### Range Data type has 3 parameters (start, stop, step), eg.(5,20,5), in this the range will start from 5 skipping 5 elements in between and stop at 20, so output will be 5,10,15"
   ]
  },
  {
   "cell_type": "code",
   "execution_count": 24,
   "metadata": {},
   "outputs": [
    {
     "name": "stdout",
     "output_type": "stream",
     "text": [
      "5\n",
      "10\n",
      "15\n"
     ]
    }
   ],
   "source": [
    "a = range(5,20,5)\n",
    "for n in a:\n",
    "    print(n)"
   ]
  },
  {
   "cell_type": "code",
   "execution_count": 31,
   "metadata": {},
   "outputs": [
    {
     "name": "stdout",
     "output_type": "stream",
     "text": [
      "As 29 is greater than 25, multiplication value of 50 and 21 is 1050\n"
     ]
    }
   ],
   "source": [
    "# Consider two numbers. Perform their subtraction and if the result of subtraction is greater than 25, print\n",
    "# their multiplication result else print their division result.\n",
    "\n",
    "a = 50\n",
    "b = 21\n",
    "c = a-b\n",
    "if c>=25:\n",
    "    print(\"As\",c,\"is greater than 25, multiplication value of\",a,\"and\",b,\"is\",a*b)\n",
    "else:\n",
    "    print(\"As\",c,\"is less than 25, division value of\",a,\"and\",b,\"is\",a/b)\n"
   ]
  },
  {
   "cell_type": "code",
   "execution_count": 38,
   "metadata": {},
   "outputs": [
    {
     "name": "stdout",
     "output_type": "stream",
     "text": [
      "(12, 21, 14, 25, 21, 20, 78, 54, 10, 5)\n",
      "142\n",
      "194\n",
      "398\n",
      "6082\n",
      "2914\n",
      "98\n"
     ]
    }
   ],
   "source": [
    "# Consider a list of 10 elements of integer values. If the number in the list is divisible by 2, print the result as\n",
    "# \"square of that number minus 2\".\n",
    "\n",
    "l = (12,21,14,25,21,20,78,54,10,5)\n",
    "print(l)\n",
    "for n in l:\n",
    "    if n%2==0:\n",
    "        print((n**2)-2)\n",
    "        "
   ]
  },
  {
   "cell_type": "code",
   "execution_count": 39,
   "metadata": {},
   "outputs": [
    {
     "name": "stdout",
     "output_type": "stream",
     "text": [
      "18\n",
      "21\n",
      "15\n",
      "32\n",
      "24\n"
     ]
    }
   ],
   "source": [
    "# Consider a list of 10 elements. Print all the elements in the list which are greater than 7 when that number\n",
    "# is divided 2.\n",
    "\n",
    "ls = (10,8,7,11,14,18,21,15,32,24)\n",
    "for x in ls:\n",
    "    if x/2>7:\n",
    "        print(x)"
   ]
  },
  {
   "cell_type": "code",
   "execution_count": null,
   "metadata": {},
   "outputs": [],
   "source": []
  }
 ],
 "metadata": {
  "kernelspec": {
   "display_name": "Python 3",
   "language": "python",
   "name": "python3"
  },
  "language_info": {
   "codemirror_mode": {
    "name": "ipython",
    "version": 3
   },
   "file_extension": ".py",
   "mimetype": "text/x-python",
   "name": "python",
   "nbconvert_exporter": "python",
   "pygments_lexer": "ipython3",
   "version": "3.8.3"
  }
 },
 "nbformat": 4,
 "nbformat_minor": 4
}
