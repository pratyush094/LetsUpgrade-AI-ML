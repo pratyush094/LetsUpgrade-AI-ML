{
 "cells": [
  {
   "cell_type": "code",
   "execution_count": 30,
   "metadata": {},
   "outputs": [
    {
     "name": "stdout",
     "output_type": "stream",
     "text": [
      "Subtraction of two complex numbers = (10+5j)\n"
     ]
    }
   ],
   "source": [
    "# Write a program to subtract two complex numbers in Python.\n",
    "\n",
    "cn1 = 5 + 3j\n",
    "cn2 = 15 + 8j\n",
    "cn3 = cn2 - cn1\n",
    "print(\"Subtraction of two complex numbers =\", cn3)\n"
   ]
  },
  {
   "cell_type": "code",
   "execution_count": 31,
   "metadata": {},
   "outputs": [
    {
     "name": "stdout",
     "output_type": "stream",
     "text": [
      "Fourth root of 81 is 3.0\n"
     ]
    }
   ],
   "source": [
    "# Write a program to find the fourth root of a number.\n",
    "\n",
    "a= 81\n",
    "b = a**(1/4)\n",
    "print(\"Fourth root of\",a,\"is\",b)\n",
    "\n"
   ]
  },
  {
   "cell_type": "code",
   "execution_count": 32,
   "metadata": {},
   "outputs": [
    {
     "name": "stdout",
     "output_type": "stream",
     "text": [
      "value of num1 before swapping = 5\n",
      "value of num2 before swapping = 6\n",
      "   \n",
      "value of num1 after swapping = 6\n",
      "value of num2 after swapping = 5\n"
     ]
    }
   ],
   "source": [
    "# Write a program to swap two numbers in Python with the help of a temporary variable.\n",
    "\n",
    "num1 = 5\n",
    "num2 = 6\n",
    "print(\"value of num1 before swapping =\",num1)\n",
    "print(\"value of num2 before swapping =\",num2)\n",
    "temp = num1\n",
    "num1 = num2\n",
    "num2 = temp\n",
    "print(\"   \")\n",
    "print(\"value of num1 after swapping =\",num1)\n",
    "print(\"value of num2 after swapping =\",num2)\n"
   ]
  },
  {
   "cell_type": "code",
   "execution_count": 33,
   "metadata": {},
   "outputs": [
    {
     "name": "stdout",
     "output_type": "stream",
     "text": [
      "value of num1 before swapping = 45\n",
      "value of num2 before swapping = 8\n",
      "   \n",
      "value of num1 after swapping = 8\n",
      "value of num2 after swapping = 45\n"
     ]
    }
   ],
   "source": [
    "# Write a program to swap two numbers in Python without using a temporary variable.\n",
    "\n",
    "num1 = 45\n",
    "num2 = 8\n",
    "print(\"value of num1 before swapping =\",num1)\n",
    "print(\"value of num2 before swapping =\",num2)\n",
    "num1,num2 = num2,num1\n",
    "print(\"   \")\n",
    "print(\"value of num1 after swapping =\",num1)\n",
    "print(\"value of num2 after swapping =\",num2)\n"
   ]
  },
  {
   "cell_type": "code",
   "execution_count": 34,
   "metadata": {},
   "outputs": [
    {
     "name": "stdout",
     "output_type": "stream",
     "text": [
      "Temperature in Farenheit = 100\n",
      "Temperature in Kelvin = 310.77777777777777\n",
      "Temperature in Celcius = 37.77777777777778\n"
     ]
    }
   ],
   "source": [
    "# Write a program to convert Fahrenheit to kelvin and celsius both.\n",
    "\n",
    "F = 100\n",
    "print(\"Temperature in Farenheit =\",F)\n",
    "\n",
    "#Farenheit to Kelvin\n",
    "\n",
    "K = 5/9*(F-32)+273\n",
    "print(\"Temperature in Kelvin =\",K)\n",
    "\n",
    "#Farenheit to Celcius\n",
    "\n",
    "C = 5/9*(F-32)\n",
    "print(\"Temperature in Celcius =\",C)"
   ]
  },
  {
   "cell_type": "code",
   "execution_count": 39,
   "metadata": {},
   "outputs": [
    {
     "name": "stdout",
     "output_type": "stream",
     "text": [
      "10 is <class 'int'>\n",
      "15.54 is <class 'float'>\n",
      "My 1st AI/ML assignment is <class 'str'>\n",
      "True is <class 'bool'>\n",
      "(10, 20, 30) is <class 'tuple'>\n"
     ]
    }
   ],
   "source": [
    "# Write a program to demonstrate all the available data types in Python. Hint: Use type() function.\n",
    "\n",
    "a = 10\n",
    "print(a,\"is\",type(a))\n",
    "\n",
    "b = 15.54\n",
    "print(b,\"is\",type(b))\n",
    "\n",
    "c = \"My 1st AI/ML assignment\"\n",
    "print(c,\"is\",type(c))\n",
    "\n",
    "d = True\n",
    "print(d,\"is\",type(d))\n",
    "\n",
    "e = (10,20,30)\n",
    "print(e,\"is\",type(e))"
   ]
  },
  {
   "cell_type": "code",
   "execution_count": null,
   "metadata": {},
   "outputs": [],
   "source": []
  }
 ],
 "metadata": {
  "kernelspec": {
   "display_name": "Python 3",
   "language": "python",
   "name": "python3"
  },
  "language_info": {
   "codemirror_mode": {
    "name": "ipython",
    "version": 3
   },
   "file_extension": ".py",
   "mimetype": "text/x-python",
   "name": "python",
   "nbconvert_exporter": "python",
   "pygments_lexer": "ipython3",
   "version": "3.8.3"
  }
 },
 "nbformat": 4,
 "nbformat_minor": 4
}
